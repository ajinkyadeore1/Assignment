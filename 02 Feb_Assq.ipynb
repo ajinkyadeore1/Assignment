{
 "cells": [
  {
   "cell_type": "code",
   "execution_count": 2,
   "id": "72ad19b5-e836-42d7-9ebd-38d38476c521",
   "metadata": {},
   "outputs": [
    {
     "name": "stdout",
     "output_type": "stream",
     "text": [
      "1\n",
      "2\n",
      "3\n",
      "4\n",
      "5\n",
      "---------------------------------------------------------------------------------------------------------\n",
      "0\n",
      "1\n",
      "2\n",
      "3\n",
      "4\n"
     ]
    }
   ],
   "source": [
    "#1 Explain with an example each when to use a for loop and a while loop.\n",
    "\n",
    "'''For Loop:\n",
    "A for loop is used when the number of iterations is known in advance, or when you want to iterate over a sequence of elements. The syntax of a for loop is as follows:'''\n",
    "numbers = [1,2,3,4,5]\n",
    "for i in numbers:\n",
    "    print(i)\n",
    "\n",
    "    \n",
    "    \n",
    "print('---------------------------------------------------------------------------------------------------------')\n",
    "\n",
    "'''While Loop:\n",
    "A while loop is used when you want to repeat a block of code until a condition is met. The syntax of a while loop is as follows:'''\n",
    "\n",
    "count = 0\n",
    "while count < 5:\n",
    "    print(count)\n",
    "    count += 1"
   ]
  },
  {
   "cell_type": "code",
   "execution_count": 5,
   "id": "6d14672b-28eb-41a9-a690-7a90bbea4eb0",
   "metadata": {},
   "outputs": [
    {
     "name": "stdout",
     "output_type": "stream",
     "text": [
      "Sum of the first 10 natural numbers is:  55\n",
      "product of the first 10 natural numbers is:  3628800\n",
      "---------------------------------------------------------------------------------------------------------------------------------------\n",
      "Sum of the first 10 natural numbers is:  55\n",
      "product of the first 10 natural numbers is:  3628800\n"
     ]
    }
   ],
   "source": [
    "#Q2. Write a python program to print the sum and product of the first 10 natural numbers using for and while loop.\n",
    "\n",
    "# Using for loop:\n",
    "\n",
    "sum = 0\n",
    "product = 1\n",
    "\n",
    "for i in range(1, 11):\n",
    "    sum += i\n",
    "    product *= i\n",
    "    \n",
    "print(\"Sum of the first 10 natural numbers is: \", sum)\n",
    "print(\"product of the first 10 natural numbers is: \", product)\n",
    "\n",
    "print(\"---------------------------------------------------------------------------------------------------------------------------------------\")\n",
    "\n",
    "\n",
    "# using while loop:\n",
    "\n",
    "sum = 0\n",
    "product = 1\n",
    "\n",
    "i = 1\n",
    "\n",
    "while i <= 10:\n",
    "    sum += i\n",
    "    product *= i\n",
    "    i += 1\n",
    "    \n",
    "print(\"Sum of the first 10 natural numbers is: \", sum)\n",
    "print(\"product of the first 10 natural numbers is: \", product)\n"
   ]
  },
  {
   "cell_type": "code",
   "execution_count": 8,
   "id": "3f1e893e-57ce-458f-90e0-7b7bf3d12625",
   "metadata": {},
   "outputs": [
    {
     "name": "stdin",
     "output_type": "stream",
     "text": [
      "Enter units of electricity consumed in a month:  310\n"
     ]
    },
    {
     "name": "stdout",
     "output_type": "stream",
     "text": [
      "Total electricity bill for the month: 2250.0\n"
     ]
    }
   ],
   "source": [
    "'''Q3. Create a python program to compute the electricity bill for a household.\n",
    "The per-unit charges in rupees are as follows: For the first 100 units, the user will be charged Rs. 4.5 per\n",
    "unit, for the next 100 units, the user will be charged Rs. 6 per unit, and for the next 100 units, the user will\n",
    "be charged Rs. 10 per unit, After 300 units and above the user will be charged Rs. 20 per unit.\n",
    "You are required to take the units of electricity consumed in a month from the user as input.\n",
    "Your program must pass this test case: when the unit of electricity consumed by the user in a month is\n",
    "310, the total electricity bill should be 2250.'''\n",
    "\n",
    "\n",
    "units = int(input(\"Enter units of electricity consumed in a month: \"))\n",
    "\n",
    "\n",
    "bill = 0\n",
    "rate = 0\n",
    "\n",
    "\n",
    "for i in range(1, units+1):\n",
    "    if i <= 100:\n",
    "        rate = 4.5\n",
    "    elif i <= 200:\n",
    "        rate = 6\n",
    "    elif i <= 300:\n",
    "        rate = 10\n",
    "    else:\n",
    "        rate = 20\n",
    "    bill += rate\n",
    "\n",
    "\n",
    "print(\"Total electricity bill for the month:\", bill)\n"
   ]
  },
  {
   "cell_type": "code",
   "execution_count": 17,
   "id": "eb3ad22f-f46a-414d-9407-488d3fda6c08",
   "metadata": {},
   "outputs": [
    {
     "name": "stdout",
     "output_type": "stream",
     "text": [
      "List of numbers whose cubes are divisible by 4 or 5:\n",
      " [2, 4, 5, 6, 8, 10, 12, 14, 15, 16, 18, 20, 22, 24, 25, 26, 28, 30, 32, 34, 35, 36, 38, 40, 42, 44, 45, 46, 48, 50, 52, 54, 55, 56, 58, 60, 62, 64, 65, 66, 68, 70, 72, 74, 75, 76, 78, 80, 82, 84, 85, 86, 88, 90, 92, 94, 95, 96, 98, 100]\n",
      "-----------------------------------------------------------------------------------------------------\n",
      "List of numbers whose cubes are divisible by 4 or 5:\n",
      " [2, 4, 5, 6, 8, 10, 12, 14, 15, 16, 18, 20, 22, 24, 25, 26, 28, 30, 32, 34, 35, 36, 38, 40, 42, 44, 45, 46, 48, 50, 52, 54, 55, 56, 58, 60, 62, 64, 65, 66, 68, 70, 72, 74, 75, 76, 78, 80, 82, 84, 85, 86, 88, 90, 92, 94, 95, 96, 98, 100]\n"
     ]
    }
   ],
   "source": [
    "'''Q4. Create a list of numbers from 1 to 100. Use for loop and while loop to calculate the cube of each\n",
    "number and if the cube of that number is divisible by 4 or 5 then append that number in a list and print\n",
    "that list.'''\n",
    "\n",
    "# Using for loop\n",
    "l = list(range(1,101))\n",
    "\n",
    "l1 = []\n",
    "\n",
    "for num in l:\n",
    "    cube = num**3\n",
    "    if cube % 4 ==0 or cube % 5 == 0:\n",
    "        l1.append(num)\n",
    "        \n",
    "print(\"List of numbers whose cubes are divisible by 4 or 5:\\n\",l1)\n",
    "\n",
    "\n",
    "print(\"-----------------------------------------------------------------------------------------------------\")\n",
    "\n",
    "\n",
    "# using while loop\n",
    "l2 = list(range(1,101))\n",
    "l3 = []\n",
    "i = 0\n",
    "while i < len(l2):\n",
    "    num = l2[i]\n",
    "    cube = num ** 3\n",
    "    if cube % 4 == 0 or cube % 5 == 0:\n",
    "        l3.append(num)\n",
    "    i += 1\n",
    "    \n",
    "print(\"List of numbers whose cubes are divisible by 4 or 5:\\n\",l1)"
   ]
  },
  {
   "cell_type": "code",
   "execution_count": 18,
   "id": "628fc817-5f6d-4482-af7f-914cb147b4e4",
   "metadata": {},
   "outputs": [
    {
     "name": "stdout",
     "output_type": "stream",
     "text": [
      "The number of vowels in the given string is:  12\n"
     ]
    }
   ],
   "source": [
    "'''Q5. Write a program to filter count vowels in the below-given string.\n",
    "string = \"I want to become a data scientist\"'''\n",
    "\n",
    "\n",
    "string = \"I want to become a data scientist\"\n",
    "\n",
    "count = 0\n",
    "\n",
    "vowels = ['a','e', 'i','o','u']\n",
    "\n",
    "for char in string:\n",
    "    if char.lower() in vowels:\n",
    "        count += 1\n",
    "    \n",
    "print(\"The number of vowels in the given string is: \", count)\n",
    "\n"
   ]
  },
  {
   "cell_type": "code",
   "execution_count": null,
   "id": "3e13c167-72ff-4389-a9b5-4306d70b339b",
   "metadata": {},
   "outputs": [],
   "source": []
  }
 ],
 "metadata": {
  "kernelspec": {
   "display_name": "Python 3 (ipykernel)",
   "language": "python",
   "name": "python3"
  },
  "language_info": {
   "codemirror_mode": {
    "name": "ipython",
    "version": 3
   },
   "file_extension": ".py",
   "mimetype": "text/x-python",
   "name": "python",
   "nbconvert_exporter": "python",
   "pygments_lexer": "ipython3",
   "version": "3.10.8"
  }
 },
 "nbformat": 4,
 "nbformat_minor": 5
}
