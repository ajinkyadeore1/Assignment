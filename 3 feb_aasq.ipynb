{
 "cells": [
  {
   "cell_type": "code",
   "execution_count": 19,
   "id": "ef7dd478-5655-4094-8e48-04be877ae2a2",
   "metadata": {},
   "outputs": [
    {
     "name": "stdout",
     "output_type": "stream",
     "text": [
      "[1, 3, 5, 7, 9, 11, 13, 15, 17, 19, 21, 23, 25]\n"
     ]
    }
   ],
   "source": [
    "'''Q1. Which keyword is used to create a function? Create a function to return a list of odd numbers in the\n",
    "range of 1 to 25.'''\n",
    "\n",
    "#'def' keyword is used to create a function.\n",
    "\n",
    "def odd_num():\n",
    "    odd_n =[]\n",
    "    for num in range(1,26):\n",
    "        if num % 2 != 0:\n",
    "            odd_n.append(num)\n",
    "    return odd_n\n",
    "   \n",
    "print(odd_num())"
   ]
  },
  {
   "cell_type": "code",
   "execution_count": 10,
   "id": "253e4c3c-49c5-4841-b79f-239204334a31",
   "metadata": {},
   "outputs": [
    {
     "name": "stdout",
     "output_type": "stream",
     "text": [
      "9\n",
      "---------------------------------------------------------------------------\n",
      "name: Ajinkya\n",
      "age: 22\n",
      "roll_no: 23\n",
      "None\n"
     ]
    }
   ],
   "source": [
    "'''Q2. Why *args and **kwargs is used in some functions? Create a function each for *args and **kwargs\n",
    "to demonstrate their use.'''\n",
    "\n",
    "'''*args and **kwargs are used in Python functions to allow for a variable number of arguments to be passed in.\n",
    "\n",
    "*args is used to pass a variable number of positional arguments to a function, \n",
    "while **kwargs is used to pass a variable number of keyword arguments.'''\n",
    "\n",
    "# Example of *args\n",
    "def sum_all(*args):\n",
    "    total = 0\n",
    "    for num in args:\n",
    "        total += num\n",
    "    return total\n",
    "print(sum_all(4,5))\n",
    "print('---------------------------------------------------------------------------')\n",
    "\n",
    "# example of *kwargs\n",
    "\n",
    "def print_info(**kwargs):\n",
    "    for key, value in kwargs.items():\n",
    "        print(key + ': '+ value)\n",
    "print(print_info(name = 'Ajinkya', age = '22', roll_no = '23'))\n"
   ]
  },
  {
   "cell_type": "code",
   "execution_count": 11,
   "id": "1b1c4b88-e4e4-4a6f-bbf2-45a53077aa0d",
   "metadata": {},
   "outputs": [
    {
     "name": "stdout",
     "output_type": "stream",
     "text": [
      "2\n",
      "4\n",
      "6\n",
      "8\n",
      "10\n"
     ]
    }
   ],
   "source": [
    "'''Q3. What is an iterator in python? Name the method used to initialise the iterator object and the method\n",
    "used for iteration. Use these methods to print the first five elements of the given list [2, 4, 6, 8, 10, 12, 14,\n",
    "16, 18, 20].'''\n",
    "\n",
    "'''An iterator is an object that implements the iterator protocol, which consists of the methods __iter__() and __next__().\n",
    "The __iter__() method is used to initialize the iterator object, while the __next__() method is used for iteration, returning the next value in the sequence. '''\n",
    "\n",
    "l = iter([2,4,6,8,10,12,14,16,18,20])\n",
    "\n",
    "for i in range(5):\n",
    "    print(next(l))"
   ]
  },
  {
   "cell_type": "code",
   "execution_count": 12,
   "id": "4be04d1c-e2fa-4f43-8bdd-5c7f68c98e97",
   "metadata": {},
   "outputs": [
    {
     "name": "stdout",
     "output_type": "stream",
     "text": [
      "0\n",
      "1\n",
      "4\n",
      "9\n",
      "16\n"
     ]
    }
   ],
   "source": [
    "'''A generator function is a type of function that uses the yield keyword to return a generator object that can be iterated over.\n",
    "\n",
    "When a generator function is called, it returns a generator object that can be used to iterate over a sequence of values. \n",
    "However, unlike regular functions that generate and return all values at once, generator functions generate and yield one value at a time as the generator is iterated over. \n",
    "This makes generator functions useful for working with large or infinite sequences of data, as they allow for efficient, memory-friendly iteration.\n",
    "\n",
    "The yield keyword is used in a generator function to indicate where the generator should yield a value and pause execution until the next iteration. \n",
    "When the generator is iterated over again, execution resumes from the point where it left off.'''\n",
    "\n",
    "def sq_gen(n):\n",
    "    for i in range(n):\n",
    "        yield i**2\n",
    "        \n",
    "squares = sq_gen(5)\n",
    "for sq in squares:\n",
    "    print(sq)"
   ]
  },
  {
   "cell_type": "code",
   "execution_count": 9,
   "id": "c5092f78-9db0-45d4-867d-d43b111a3fea",
   "metadata": {},
   "outputs": [
    {
     "name": "stdout",
     "output_type": "stream",
     "text": [
      "2\n",
      "3\n",
      "5\n",
      "7\n",
      "11\n",
      "13\n",
      "17\n",
      "19\n",
      "23\n",
      "29\n",
      "31\n",
      "37\n",
      "41\n",
      "43\n",
      "47\n",
      "53\n",
      "59\n",
      "61\n",
      "67\n",
      "71\n"
     ]
    }
   ],
   "source": [
    "'''Q5. Create a generator function for prime numbers less than 1000. Use the next() method to print the\n",
    "first 20 prime numbers.'''\n",
    "\n",
    "def primes_gen():\n",
    "\n",
    "    primes = []\n",
    "    for num in range(2, 1000):\n",
    "        is_prime = True\n",
    "        for prime in primes:\n",
    "            if num % prime == 0:\n",
    "                is_prime = False\n",
    "                break\n",
    "        if is_prime:\n",
    "            primes.append(num)\n",
    "            yield num\n",
    "\n",
    "primes = primes_gen()\n",
    "\n",
    "count = 0\n",
    "while count < 20:\n",
    "    print(next(primes))\n",
    "    count += 1\n",
    "\n"
   ]
  },
  {
   "cell_type": "code",
   "execution_count": 11,
   "id": "ed3bab0f-e635-4b45-b8fd-c90060d5c43f",
   "metadata": {},
   "outputs": [
    {
     "name": "stdout",
     "output_type": "stream",
     "text": [
      "0\n",
      "1\n",
      "1\n",
      "2\n",
      "3\n",
      "5\n",
      "8\n",
      "13\n",
      "21\n",
      "34\n"
     ]
    }
   ],
   "source": [
    "#Q6. Write a python program to print the first 10 Fibonacci numbers using a while loop.\n",
    "\n",
    "a,b = 0,1\n",
    "\n",
    "count = 0\n",
    "while count < 10:\n",
    "    print(a)\n",
    "    c = a+b\n",
    "    a = b\n",
    "    b = c\n",
    "    count += 1"
   ]
  },
  {
   "cell_type": "code",
   "execution_count": 12,
   "id": "ec0ab761-ae3d-4a4b-b11d-98767de111ed",
   "metadata": {},
   "outputs": [
    {
     "name": "stdout",
     "output_type": "stream",
     "text": [
      "['p', 'w', 's', 'k', 'i', 'l', 'l', 's']\n"
     ]
    }
   ],
   "source": [
    "'''Q7. Write a List Comprehension to iterate through the given string: ‘pwskills’.\n",
    "Expected output: ['p', 'w', 's', 'k', 'i', 'l', 'l', 's']'''\n",
    "\n",
    "string = 'pwskills'\n",
    "result = [char for char in string if char in 'pwskills']\n",
    "print(result)"
   ]
  },
  {
   "cell_type": "code",
   "execution_count": 13,
   "id": "f830523f-0b1d-4c91-a4b4-19ce4a271071",
   "metadata": {},
   "outputs": [
    {
     "name": "stdin",
     "output_type": "stream",
     "text": [
      "Enter a number:  141\n"
     ]
    },
    {
     "name": "stdout",
     "output_type": "stream",
     "text": [
      "141  is a pallindrome\n"
     ]
    }
   ],
   "source": [
    "'''Q8. Write a python program to check whether a given number is Palindrome or not using a while loop.'''\n",
    "num = int(input(\"Enter a number: \"))\n",
    "\n",
    "temp = num\n",
    "rev = 0\n",
    "while temp > 0:\n",
    "    digit = temp % 10\n",
    "    rev = rev * 10 + digit\n",
    "    temp = temp // 10\n",
    "    \n",
    "if num == rev: \n",
    "    print(num, \"is a pallindrome\")\n",
    "else:\n",
    "    print(num, \"is not a pallindrome\")"
   ]
  },
  {
   "cell_type": "code",
   "execution_count": 14,
   "id": "6e2aba2f-636e-4b85-a5ec-c78922dc9399",
   "metadata": {},
   "outputs": [
    {
     "name": "stdout",
     "output_type": "stream",
     "text": [
      "[1, 3, 5, 7, 9, 11, 13, 15, 17, 19, 21, 23, 25, 27, 29, 31, 33, 35, 37, 39, 41, 43, 45, 47, 49, 51, 53, 55, 57, 59, 61, 63, 65, 67, 69, 71, 73, 75, 77, 79, 81, 83, 85, 87, 89, 91, 93, 95, 97, 99]\n"
     ]
    }
   ],
   "source": [
    "'''Q9. Write a code to print odd numbers from 1 to 100 using list comprehension.\n",
    "Note: Use a list comprehension to create a list from 1 to 100 and use another List comprehension to filter\n",
    "out odd numbers.'''\n",
    "\n",
    "num1 = [num for num in range(1,101)]\n",
    "\n",
    "odd_num = [num for num in num1 if num % 2 != 0]\n",
    "print(odd_num)"
   ]
  },
  {
   "cell_type": "code",
   "execution_count": null,
   "id": "29cfb4b6-e2fc-4044-8b38-7f09804a6e33",
   "metadata": {},
   "outputs": [],
   "source": []
  }
 ],
 "metadata": {
  "kernelspec": {
   "display_name": "Python 3 (ipykernel)",
   "language": "python",
   "name": "python3"
  },
  "language_info": {
   "codemirror_mode": {
    "name": "ipython",
    "version": 3
   },
   "file_extension": ".py",
   "mimetype": "text/x-python",
   "name": "python",
   "nbconvert_exporter": "python",
   "pygments_lexer": "ipython3",
   "version": "3.10.8"
  }
 },
 "nbformat": 4,
 "nbformat_minor": 5
}
