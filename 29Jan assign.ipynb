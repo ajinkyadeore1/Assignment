{
 "cells": [
  {
   "cell_type": "markdown",
   "id": "df4c9c37-a1fb-4978-ab63-18da23bc4f5e",
   "metadata": {},
   "source": [
    "1. Python Programming Language was developed ny Guido van Rossum, a dutch Programmer and python was first released in 1991 with the initial version of 0.9.0"
   ]
  },
  {
   "cell_type": "markdown",
   "id": "07655a04-a545-4e32-b175-2c0c2959c10a",
   "metadata": {},
   "source": [
    "2.Python supports:- \n",
    "\n",
    "a) Imperative/Procedural programming.\n",
    "b) Object-oriented Programmin(OOPs).\n",
    "c) Functional Programming.\n",
    "d) Metaprogramming."
   ]
  },
  {
   "cell_type": "markdown",
   "id": "a6ee731f-0784-49f1-b27f-7cbf66494abc",
   "metadata": {},
   "source": [
    "3. Yes, Python is case sensitive when dealing with identifiers, which are names given to variables, functions, modules, classes, and other objects. For e.g. \"my_name\", \"My_Name\", \"MY_NAME\" are three different Identifiers in python and each can be assigned a different value."
   ]
  },
  {
   "cell_type": "markdown",
   "id": "c64552c8-31b3-45d9-9a11-4cf8a725e5c3",
   "metadata": {},
   "source": [
    "4. The correct extension for python files is \".py\", for e.g a python script named \"my_name.py\"."
   ]
  },
  {
   "cell_type": "markdown",
   "id": "7e1789cc-369b-4ac6-9104-c075d2690710",
   "metadata": {},
   "source": [
    "5. Python is an interpreted langauge, i.e. python code is executed line by line without the need for a seperate compilation step."
   ]
  },
  {
   "cell_type": "code",
   "execution_count": null,
   "id": "3a74c9dd-c096-40e6-a710-89924b65abcf",
   "metadata": {},
   "outputs": [],
   "source": [
    "#6. A few blocks of code are as follows:\n",
    "\n",
    "#a) \n",
    "print(\"Hello world\")\n",
    "\n",
    "#b)\n",
    "age = 18\n",
    "\n",
    "if age >= 18:\n",
    "    print(\"You are eligible to vote\")\n",
    "else:\n",
    "    print(\"Sorry, you are not eligible to vote\")"
   ]
  },
  {
   "cell_type": "markdown",
   "id": "3a02f5d9-10b9-4ee1-97c8-4ad4b7d65014",
   "metadata": {},
   "source": [
    "7. In python '#' character is used to indicate a single-line character.\n",
    "for e.g. #welcome to python programming."
   ]
  },
  {
   "cell_type": "code",
   "execution_count": null,
   "id": "376503f2-a1e0-481a-939e-e32fd199d7d9",
   "metadata": {},
   "outputs": [],
   "source": [
    "#8. There are few function that you can use to find the version\n",
    "# a) 'sys' module.\n",
    "import sys\n",
    "print(sys.version)\n",
    "\n",
    "# b) 'platform' module\n",
    "import platform \n",
    "print(platform.python_version())\n",
    "\n",
    "# 3) 'sysconfig' module\n",
    "import sysconfig\n",
    "print(sysconfig.get_python_version())"
   ]
  },
  {
   "cell_type": "markdown",
   "id": "0790295c-81ad-4512-9df1-f096357b8eec",
   "metadata": {},
   "source": [
    "9. Python supports the creation of anonympus functions at runtime, using a construct called \"lambda\"."
   ]
  },
  {
   "cell_type": "markdown",
   "id": "2fb24024-b902-4ce4-bfaa-bef1c95cd6c1",
   "metadata": {},
   "source": [
    "10. 'pip' is a package manager for python that allows you to easily install and manage third-party packages and modules."
   ]
  },
  {
   "cell_type": "markdown",
   "id": "5dec302d-c86f-4edc-9f95-4fd172888453",
   "metadata": {},
   "source": [
    "11. Few built-in functions are as follows:\n",
    "\n",
    "a) print() : prints the specified message.\n",
    "b) len() : Returns the length.\n",
    "c) input() : Reads a line of text from the user via the keyboard or Standard input.\n",
    "d) int(), float(), str() "
   ]
  },
  {
   "cell_type": "markdown",
   "id": "ff2aff2d-fbe6-4298-8450-1e80aca26d36",
   "metadata": {},
   "source": [
    "12. The maximum length of an identifier is not explicitly defined, and it may vary depending on the implementaion of python being used."
   ]
  },
  {
   "cell_type": "markdown",
   "id": "3e0b0352-0281-49fd-9020-848848a1ada4",
   "metadata": {},
   "source": [
    "13. The benefits of python are as follows: \n",
    "a) Easy to learn and use.\n",
    "b) Large and active community.\n",
    "c) Cross-Platform compatibility.\n",
    "d) Extensive standard library.\n",
    "e) High level langauge."
   ]
  },
  {
   "cell_type": "markdown",
   "id": "433c5fd5-7a55-4b30-a0a7-946792ffe88c",
   "metadata": {},
   "source": [
    "14. Memory is managed in python through a combination of automatic memory mangement and reference counting.\n",
    "\n",
    "a) Automatic meomry management:- Python uses a technique called garbage collection to automatically reclaim memory that is no longer being used by a program.\n",
    "b) Reference counting:- In addition to garbage collection, python uses a technique called reference counting to keep track of the refernces to an object in memory."
   ]
  },
  {
   "cell_type": "markdown",
   "id": "3b7c370e-30b6-433f-af7b-b3c3254d34dd",
   "metadata": {},
   "source": [
    "15.Download Python: Go to the official Python website (https://www.python.org/downloads/) and download the latest version of Python for Windows.\n",
    "\n",
    "Run the installer: Double-click on the downloaded file to run the installer. Follow the instructions to complete the installation process.\n",
    "\n",
    "Set the PATH variable: After installation, you need to add the Python executable to the PATH environment variable so that."
   ]
  },
  {
   "cell_type": "markdown",
   "id": "81d8ba33-1c7b-4435-8da2-e26b023548c5",
   "metadata": {},
   "source": [
    "16. Yes, indentaion is required in python."
   ]
  },
  {
   "cell_type": "code",
   "execution_count": null,
   "id": "925d4192-fac3-4e03-a77c-c76f37fb002d",
   "metadata": {},
   "outputs": [],
   "source": []
  }
 ],
 "metadata": {
  "kernelspec": {
   "display_name": "Python 3 (ipykernel)",
   "language": "python",
   "name": "python3"
  },
  "language_info": {
   "codemirror_mode": {
    "name": "ipython",
    "version": 3
   },
   "file_extension": ".py",
   "mimetype": "text/x-python",
   "name": "python",
   "nbconvert_exporter": "python",
   "pygments_lexer": "ipython3",
   "version": "3.10.8"
  }
 },
 "nbformat": 4,
 "nbformat_minor": 5
}
