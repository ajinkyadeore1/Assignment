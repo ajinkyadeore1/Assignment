{
 "cells": [
  {
   "cell_type": "code",
   "execution_count": 5,
   "id": "910fe613-4105-4e82-9d69-c60d4e1dd998",
   "metadata": {},
   "outputs": [
    {
     "name": "stdout",
     "output_type": "stream",
     "text": [
      "KTM Duke\n",
      "Apache 2022\n"
     ]
    }
   ],
   "source": [
    "\n",
    "#Q1. Explain Class and Object with respect to Object-Oriented Programming. Give a suitable example.Object-Oriented Programming (OOP) is a programming paradigm that is based on the concept of objects.\n",
    "'''An object is an instance of a class that encapsulates data (attributes) and behavior (methods).\n",
    "A class is a blueprint or a template for creating objects. It defines the attributes and methods that the objects of that class will have.'''\n",
    "\n",
    "class Bike:\n",
    "    def __init__(self, make, model, year):\n",
    "        self.make = make\n",
    "        self.model = model\n",
    "        self.year = year\n",
    "        \n",
    "    def get_make(self):\n",
    "        return self.make\n",
    "    def get_model(self):\n",
    "        return self.model\n",
    "    def get_year(self):\n",
    "        return self.year\n",
    "    \n",
    "bike1 = Bike(\"KTM\",\"Duke\",\"2023\")\n",
    "bike2 = Bike(\"TVS\",\"Apache\",\"2022\")\n",
    "\n",
    "print(bike1.get_make(),bike1.get_model())\n",
    "print(bike2.get_model(),bike2. get_year())"
   ]
  },
  {
   "cell_type": "markdown",
   "id": "7b53f727-8da6-4563-be3a-0e248185d280",
   "metadata": {},
   "source": [
    "#Q2. Name the four pillars of OOPs.\n",
    "\n",
    "'''The four pillars of Object-Oriented Programming (OOP) are:\n",
    "\n",
    "1.Encapsulation: It is the process of hiding the internal details of an object from the outside world and providing a public interface for accessing the object's attributes and methods. Encapsulation helps in achieving data abstraction, data hiding, and modularity.\n",
    "\n",
    "2.Inheritance: It is the process of creating a new class from an existing class by inheriting its attributes and methods. The new class is called a subclass or derived class, and the existing class is called a superclass or base class. Inheritance helps in achieving code reusability, and it also allows us to create specialized versions of a class.\n",
    "\n",
    "3.Polymorphism: It is the ability of an object to take on many forms. In Python, polymorphism is achieved through method overriding and method overloading. Method overriding is when a subclass provides its own implementation of a method that is already defined in the superclass. Method overloading is when a class has multiple methods with the same name but different parameters.\n",
    "\n",
    "4.Abstraction: It is the process of reducing complexity by hiding unnecessary details and showing only the essential features of an object. Abstraction helps in achieving data hiding and modularity. In Python, abstraction is achieved through abstract classes and interfaces.'''"
   ]
  },
  {
   "cell_type": "code",
   "execution_count": 7,
   "id": "4cf0baa2-18b9-44b6-81c1-59a7ff9333b7",
   "metadata": {},
   "outputs": [],
   "source": [
    "#Q3. Explain why the __init__() function is used. Give a suitable example.\n",
    "'''In Python, the __init__() function is a constructor method that is called automatically when an object of a class is created. It initializes the attributes of the object and sets their initial values.\n",
    "\n",
    "The __init__() function is used to define the properties or attributes of an object, and to initialize them with specific values. It can also be used to perform any other setup or initialization tasks that are required for the object to function properly.'''\n",
    "\n",
    "#here is the example:\n",
    "class Person:\n",
    "    def __init__(self, name ,age, gender):\n",
    "        self.name= name\n",
    "        self.age = age\n",
    "        self.gender = gender\n",
    "        \n",
    "person1 = Person(\"Ajinkya\", 22, \"Male\")\n",
    "person2 = Person(\"Kattie\", 20, \"Female\")"
   ]
  },
  {
   "cell_type": "markdown",
   "id": "83cc10bd-5e42-4ee6-8096-6b475ad1bfab",
   "metadata": {},
   "source": [
    "#Q4. Why self is used in OOPs?\n",
    "'''In Object-Oriented Programming (OOP), self is a reference variable that refers to the instance of the class. It is used to access the instance variables and instance methods of the class.\n",
    "When a class method or instance method is called, self is automatically passed as the first argument. This allows the method to access the instance variables and methods of the class.'''\n"
   ]
  },
  {
   "cell_type": "code",
   "execution_count": 2,
   "id": "a9f4fece-e725-4490-aebb-fa292bd8b745",
   "metadata": {},
   "outputs": [
    {
     "name": "stdout",
     "output_type": "stream",
     "text": [
      "This is parent method\n",
      "This is child method\n",
      "------------------------------------------------------------------------------\n",
      "This is parent1 method\n",
      "This is parent2 method\n",
      "This is child method\n",
      "------------------------------------------------------------------------------\n",
      "This is grandparent method\n",
      "This is parent method\n",
      "This is child method\n",
      "------------------------------------------------------------------------------\n",
      "This is parent method\n",
      "This is child1 method\n",
      "This is parent method\n",
      "This is child2 method\n"
     ]
    }
   ],
   "source": [
    "#Q5. What is inheritance? Give an example for each type of inheritance.\n",
    "'''Inheritance is a fundamental concept of Object-Oriented Programming (OOP) that allows a new class to be based on an existing class.\n",
    "The new class inherits the attributes and behaviors of the existing class and can also add its own attributes and behaviors.\n",
    "Inheritance helps to promote code reuse, reduces code duplication, and makes the code easier to maintain.'''\n",
    "\n",
    "# There are four types of Inheritance\n",
    "'''1.Single Inheritance\n",
    "2.Multiple Inheritance\n",
    "3.Multi-level Inheritance\n",
    "4.Hierarchical Inheritance'''\n",
    "\n",
    "#1. Single Inheritance:\n",
    "\n",
    "class Parent:\n",
    "    def par(self):\n",
    "        print(\"This is parent method\")\n",
    "\n",
    "class Child(Parent):\n",
    "    def child(self):\n",
    "        print(\"This is child method\")\n",
    "c = Child()\n",
    "c.par()\n",
    "c.child()\n",
    "\n",
    "print(\"------------------------------------------------------------------------------\")\n",
    "\n",
    "#2. Multiple Inheritance\n",
    "class Parent1:\n",
    "    def par1_method(self):\n",
    "        print(\"This is parent1 method\")\n",
    "class Parent2:\n",
    "    def par2_method(self):\n",
    "        print(\"This is parent2 method\")\n",
    "class Child(Parent1, Parent2):\n",
    "    def child_method(self):\n",
    "        print(\"This is child method\")\n",
    "c = Child()\n",
    "c.par1_method()  \n",
    "c.par2_method()  \n",
    "c.child_method() \n",
    "print(\"------------------------------------------------------------------------------\")\n",
    "\n",
    "#3. Multi-level inheritance\n",
    "class Grandparent:\n",
    "    def grandparent_method(self):\n",
    "        print(\"This is grandparent method\")\n",
    "\n",
    "class Parent(Grandparent):\n",
    "    def parent_method(self):\n",
    "        print(\"This is parent method\")\n",
    "\n",
    "class Child(Parent):\n",
    "    def child_method(self):\n",
    "        print(\"This is child method\")\n",
    "\n",
    "c = Child()\n",
    "c.grandparent_method()  \n",
    "c.parent_method()       \n",
    "c.child_method()        \n",
    "print(\"------------------------------------------------------------------------------\")\n",
    "\n",
    "#4. Hierarchical inheritance\n",
    "class Parent:\n",
    "    def parent_method(self):\n",
    "        print(\"This is parent method\")\n",
    "\n",
    "class Child1(Parent):\n",
    "    def child1_method(self):\n",
    "        print(\"This is child1 method\")\n",
    "\n",
    "class Child2(Parent):\n",
    "    def child2_method(self):\n",
    "        print(\"This is child2 method\")\n",
    "\n",
    "c1 = Child1()\n",
    "c2 = Child2()\n",
    "c1.parent_method()   \n",
    "c1.child1_method()  \n",
    "c2.parent_method()  \n",
    "c2.child2_method()  \n"
   ]
  }
 ],
 "metadata": {
  "kernelspec": {
   "display_name": "Python 3 (ipykernel)",
   "language": "python",
   "name": "python3"
  },
  "language_info": {
   "codemirror_mode": {
    "name": "ipython",
    "version": 3
   },
   "file_extension": ".py",
   "mimetype": "text/x-python",
   "name": "python",
   "nbconvert_exporter": "python",
   "pygments_lexer": "ipython3",
   "version": "3.10.8"
  }
 },
 "nbformat": 4,
 "nbformat_minor": 5
}
