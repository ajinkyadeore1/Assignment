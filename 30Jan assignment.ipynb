{
 "cells": [
  {
   "cell_type": "code",
   "execution_count": 7,
   "id": "ce822709-a36a-41d2-830b-0e5903b3fcfd",
   "metadata": {},
   "outputs": [
    {
     "name": "stdin",
     "output_type": "stream",
     "text": [
      "Enter your marks:  96.56\n"
     ]
    },
    {
     "name": "stdout",
     "output_type": "stream",
     "text": [
      "Grade A\n"
     ]
    }
   ],
   "source": [
    "# 1)\n",
    "marks = float(input(\"Enter your marks: \"))\n",
    "if marks > 90:\n",
    "    print(\"Grade A\")\n",
    "elif marks>80 and marks<=90:\n",
    "    print(\"Grade B\")\n",
    "elif marks >=60 and marks<=80:\n",
    "    print(\"Grade C\")\n",
    "else:\n",
    "    print(\"Grade D\")"
   ]
  },
  {
   "cell_type": "code",
   "execution_count": 10,
   "id": "e9819a9b-7a7a-436e-b165-2dfe4b602325",
   "metadata": {},
   "outputs": [
    {
     "name": "stdin",
     "output_type": "stream",
     "text": [
      "Enter the cost price:  50000\n"
     ]
    },
    {
     "name": "stdout",
     "output_type": "stream",
     "text": [
      "Tax to be paid of 5%\n"
     ]
    }
   ],
   "source": [
    "# 2)\n",
    "Cost_price = float(input(\"Enter the cost price: \"))\n",
    "if Cost_price > 100000:\n",
    "    print(\"Tax to be paid of 15%\")\n",
    "elif Cost_price > 50000 and Cost_price<=100000:\n",
    "    print(\"Tax to be paid of 10%\")\n",
    "else: \n",
    "    print(\"Tax to be paid of 5%\")"
   ]
  },
  {
   "cell_type": "code",
   "execution_count": 17,
   "id": "547f89bb-0f0d-470b-8e3d-429f6ad8260a",
   "metadata": {},
   "outputs": [
    {
     "name": "stdin",
     "output_type": "stream",
     "text": [
      "Enter a city:  Jaipur\n"
     ]
    },
    {
     "name": "stdout",
     "output_type": "stream",
     "text": [
      "The monument of Jaipur is Jal Mahal\n"
     ]
    }
   ],
   "source": [
    "# 3)\n",
    "monument = {\"Delhi\" : \"Red Fort\", \"Agra\": \"Taj Mahal\", \"Jaipur\": \"Jal Mahal\"}\n",
    "\n",
    "city = input(\"Enter a city: \")\n",
    "\n",
    "if city in monument:\n",
    "    print(\"The monument of\", city,\"is\",monument[city] )\n",
    "else:\n",
    "    print(\"Sorry, we don't have the information about the city.\")"
   ]
  },
  {
   "cell_type": "code",
   "execution_count": 23,
   "id": "2d960e8e-1102-4ad0-a1ed-304a221803a3",
   "metadata": {},
   "outputs": [
    {
     "name": "stdin",
     "output_type": "stream",
     "text": [
      "Enter the number:  40\n"
     ]
    },
    {
     "name": "stdout",
     "output_type": "stream",
     "text": [
      "The number can be divided by 3 before it is less than or equal to 10 is by 2\n"
     ]
    }
   ],
   "source": [
    "# 4)\n",
    "num = int(input(\"Enter the number: \"))\n",
    "count = 0\n",
    "\n",
    "while num > 10:\n",
    "    num = num/3\n",
    "    count = count + 1\n",
    "    \n",
    "print(\"The number can be divided by 3 before it is less than or equal to 10 is by\",count)"
   ]
  },
  {
   "cell_type": "code",
   "execution_count": 24,
   "id": "f50566a5-0e09-4638-b068-fe4f73d88ebe",
   "metadata": {},
   "outputs": [
    {
     "name": "stdout",
     "output_type": "stream",
     "text": [
      "1\n",
      "2\n",
      "3\n",
      "4\n",
      "5\n"
     ]
    }
   ],
   "source": [
    "# 5)\n",
    "'''A while loop is a type of loop in Python that is used to execute a block of \n",
    "code repeatedly as long as a certain condition is true. \n",
    "It is useful when you want to execute a block of code repeatedly until a certain condition is met,\n",
    "or when you don't know how many times a loop needs to be executed in advance.\n",
    "\n",
    "The basic syntax of a while loop in Python is as follows:'''\n",
    "num = 1\n",
    "\n",
    "while num <= 5:\n",
    "    print(num)\n",
    "    num += 1\n"
   ]
  },
  {
   "cell_type": "code",
   "execution_count": 28,
   "id": "9c4ad139-23b5-49f2-86e1-eddad331566d",
   "metadata": {},
   "outputs": [
    {
     "name": "stdout",
     "output_type": "stream",
     "text": [
      "*\n",
      "**\n",
      "***\n",
      "****\n",
      "*****\n",
      "--------------------------------------------------------------\n",
      "*****\n",
      "*****\n",
      "*****\n",
      "*****\n",
      "*****\n",
      "------------------------------------------------------\n",
      "1\n",
      "22\n",
      "333\n",
      "4444\n",
      "55555\n"
     ]
    }
   ],
   "source": [
    "# 6) a) right angled triangle\n",
    "\n",
    "i = 1\n",
    "while i <= 5:\n",
    "    j =1\n",
    "    while j <= i:\n",
    "        print(\"*\", end = '')\n",
    "        j = j+1\n",
    "    print()\n",
    "    i = i+1\n",
    "print(\"--------------------------------------------------------------\")   \n",
    "# b) Square of asterisks\n",
    "i = 1\n",
    "while i <= 5:\n",
    "    j = 1\n",
    "    while j<= 5:\n",
    "        print(\"*\", end = '')\n",
    "        j = j+1\n",
    "    print()\n",
    "    i = i+1\n",
    "print(\"------------------------------------------------------\")\n",
    "# c) pattern 3\n",
    "i = 1\n",
    "\n",
    "while i <= 5:\n",
    "    j =1\n",
    "    while j<=i:\n",
    "        print(i, end=\"\")\n",
    "        j = j +1\n",
    "    print()\n",
    "    i = i+1"
   ]
  },
  {
   "cell_type": "code",
   "execution_count": 30,
   "id": "b69e09f8-3ca2-4f10-8f39-102f85bc1603",
   "metadata": {},
   "outputs": [
    {
     "name": "stdout",
     "output_type": "stream",
     "text": [
      "10\n",
      "9\n",
      "8\n",
      "7\n",
      "6\n",
      "5\n",
      "4\n",
      "3\n",
      "2\n",
      "1\n"
     ]
    }
   ],
   "source": [
    "#7) \n",
    "n= 10\n",
    "\n",
    "while n >= 1:\n",
    "    print(n)\n",
    "    n = n -1\n"
   ]
  },
  {
   "cell_type": "code",
   "execution_count": 31,
   "id": "76da4db4-cd49-4295-aceb-2f1214aa98d3",
   "metadata": {},
   "outputs": [
    {
     "name": "stdout",
     "output_type": "stream",
     "text": [
      "10\n",
      "9\n",
      "8\n",
      "7\n",
      "6\n",
      "5\n",
      "4\n",
      "3\n",
      "2\n",
      "1\n"
     ]
    }
   ],
   "source": [
    "# 8) \n",
    "n= 10\n",
    "\n",
    "while n >= 1:\n",
    "    print(n)\n",
    "    n = n -1"
   ]
  }
 ],
 "metadata": {
  "kernelspec": {
   "display_name": "Python 3 (ipykernel)",
   "language": "python",
   "name": "python3"
  },
  "language_info": {
   "codemirror_mode": {
    "name": "ipython",
    "version": 3
   },
   "file_extension": ".py",
   "mimetype": "text/x-python",
   "name": "python",
   "nbconvert_exporter": "python",
   "pygments_lexer": "ipython3",
   "version": "3.10.8"
  }
 },
 "nbformat": 4,
 "nbformat_minor": 5
}
